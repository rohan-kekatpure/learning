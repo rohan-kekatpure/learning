{
 "cells": [
  {
   "cell_type": "code",
   "execution_count": 9,
   "id": "bdf4a209",
   "metadata": {},
   "outputs": [
    {
     "name": "stdout",
     "output_type": "stream",
     "text": [
      "[6, 2, 4, 5, 3, 7, 1]\n",
      "[3, 5, 7, 1]\n",
      "[2, 4, 6, 8]\n",
      "[2, 4, 6, 8, 0, 0, 0, 0, 1]\n"
     ]
    }
   ],
   "source": [
    "\n",
    "\"\"\"\n",
    "EVEN BEFORE ODD\n",
    "\n",
    "Given an integer array `a`, arrange its elements such that the even integers are before odd ones\n",
    "\"\"\"\n",
    "def even_before_odd(a):\n",
    "    '''EPI version'''\n",
    "    n = len(a)\n",
    "    left, right = 0, n - 1\n",
    "    while left < right:\n",
    "        if a[left] % 2 == 0:\n",
    "            left += 1\n",
    "        else:    \n",
    "            a[left], a[right] = a[right], a[left]\n",
    "            right -= 1\n",
    "    return a\n",
    "\n",
    "print(even_before_odd([1, 2, 3, 4, 5, 6, 7]))\n",
    "print(even_before_odd([1, 3, 5, 7]))\n",
    "print(even_before_odd([2, 4, 6, 8]))\n",
    "print(even_before_odd([2, 4, 6, 8, 1, 0, 0, 0, 0]))"
   ]
  },
  {
   "cell_type": "code",
   "execution_count": 2,
   "id": "eedc102e",
   "metadata": {},
   "outputs": [
    {
     "name": "stdout",
     "output_type": "stream",
     "text": [
      "[1, 1, 1, 0, 2, 2, 2, 2, 2, 3]\n"
     ]
    }
   ],
   "source": [
    "\"\"\"\n",
    "DUTCH NATIONAL FLAG\n",
    "\n",
    "Write a program that takes and array A and and index i into A and rearranges \n",
    "the elements such that all elements less than A[i] (the pivot) appear first\n",
    "followed by all elements equal to the pivot, followed by elements greater than\n",
    "the pivot. \n",
    "\n",
    "Use O(1) space\n",
    "\"\"\"\n",
    "\n",
    "def dutch_national_flag(A, i):\n",
    "    pivot = A[i]\n",
    "    n = len(A)\n",
    "    \n",
    "    # First pass, place less elements\n",
    "    smaller = 0\n",
    "    for i in range(n):\n",
    "        if A[i] < pivot:\n",
    "            A[i], A[smaller] = A[smaller], A[i]\n",
    "            smaller += 1\n",
    "    \n",
    "    # Second pass, place greater elements\n",
    "    larger = n - 1\n",
    "    for i in reversed(range(n)):\n",
    "        if A[i] > pivot:\n",
    "            A[i], A[larger] = A[larger], A[i]\n",
    "            larger -= 1    \n",
    "            \n",
    "    return A        \n",
    "\n",
    "print(dutch_national_flag([1, 1, 1, 2, 2, 2, 3, 2, 2, 0], 3))"
   ]
  },
  {
   "cell_type": "code",
   "execution_count": 3,
   "id": "e598b994",
   "metadata": {},
   "outputs": [
    {
     "name": "stdout",
     "output_type": "stream",
     "text": [
      "[1, 2, 1, 4, 0, 1]\n"
     ]
    }
   ],
   "source": [
    "\"\"\"\n",
    "MULTIPLY ARBITRARY PRECISION INTEGERS\n",
    "\n",
    "Two integers are given as digit arrays. Write a program to simulate \n",
    "grade-school multiplication algorithm.\n",
    "\"\"\"\n",
    "\n",
    "def multiply(x, y):\n",
    "    m = len(x)\n",
    "    n = len(y)\n",
    "    \n",
    "    x = x[::-1] + [0]\n",
    "    y = y[::-1] + [0]\n",
    "    ans = [0] * (m + n + 2)  \n",
    "    \n",
    "    for j in range(n + 1):\n",
    "        carry = 0\n",
    "        for i in range(m + 1):\n",
    "            r = ans[j + i] + carry + x[i] * y[j]            \n",
    "            ans[j + i] = r % 10\n",
    "            carry = r // 10\n",
    "    \n",
    "    # strip leading zeros\n",
    "    ans = ans[::-1]\n",
    "    i = 0\n",
    "    while ans[i] == 0:\n",
    "        i += 1   \n",
    "    \n",
    "    return ans[i:]\n",
    "\n",
    "    \n",
    "print(multiply([1, 2, 3], [9, 8, 7]))"
   ]
  },
  {
   "cell_type": "code",
   "execution_count": 4,
   "id": "4263ab70",
   "metadata": {},
   "outputs": [
    {
     "name": "stdout",
     "output_type": "stream",
     "text": [
      "True\n",
      "False\n"
     ]
    }
   ],
   "source": [
    "\"\"\"\n",
    "CAN REACH END? \n",
    "\n",
    "Write a program that takes an array of integers `a`, where a[i] denotes\n",
    "the maximum you can advance from index i, and returns whether it is \n",
    "possible to the last index, starting from the beginning of the array\n",
    "\"\"\"\n",
    "\n",
    "# Solution 1, Dynamic programming O(n ^ 2)/O(n)\n",
    "def can_reach_end_1(a):\n",
    "    n = len(a)\n",
    "    reachable = [False] * n\n",
    "    reachable[0] = True\n",
    "    \n",
    "    for i in range(n):\n",
    "        for k in range(i):\n",
    "            if reachable[k] and (k + a[k] >= i):\n",
    "                reachable[i] = True\n",
    "                break\n",
    "    return reachable[-1]\n",
    "\n",
    "# Solution 2, O(n) / O(1)\n",
    "def can_reach_end_2(a):\n",
    "    n = len(a)\n",
    "    i = furthest = 0\n",
    "    \n",
    "    while i <= furthest <= n - 1:\n",
    "        furthest = max(furthest, i + a[i])\n",
    "        i += 1\n",
    "    return furthest >= n - 1\n",
    "\n",
    "print(can_reach_end_2([2, 4, 1, 1, 0, 2, 3]))      \n",
    "print(can_reach_end_2([3, 2, 0, 0, 2, 0, 1]))      "
   ]
  },
  {
   "cell_type": "code",
   "execution_count": 5,
   "id": "06e9a836",
   "metadata": {},
   "outputs": [
    {
     "name": "stdout",
     "output_type": "stream",
     "text": [
      "[2, 3, 5, 7, 11, 13]\n",
      "[2, 3]\n",
      "[2, 3]\n"
     ]
    }
   ],
   "source": [
    "\"\"\"\n",
    "DELETE DUPLICATES FROM SORTED ARRAY\n",
    "\n",
    "Write a program that takes as input a sorted array and updates it so that\n",
    "all duplicates have been removed and remaining elements have been shifted \n",
    "to fill in empty indices. \n",
    "\"\"\"\n",
    "\n",
    "def remove_duplicates(a):\n",
    "    n = len(a)\n",
    "    s = 0\n",
    "    i = 1\n",
    "    \n",
    "    if n <= 1:\n",
    "        return a\n",
    "    \n",
    "    while i < n:\n",
    "        if a[i] != a[s]:\n",
    "            s += 1\n",
    "            a[s] = a[i]\n",
    "        i += 1\n",
    "        \n",
    "    return a[:s+1]\n",
    "\n",
    "print(remove_duplicates([2, 3, 5, 5, 7, 11, 11, 11, 13]))\n",
    "print(remove_duplicates([2, 3]))\n",
    "print(remove_duplicates([2, 2, 2, 3, 3, 3]))"
   ]
  },
  {
   "cell_type": "code",
   "execution_count": 6,
   "id": "53b18350",
   "metadata": {},
   "outputs": [
    {
     "name": "stdout",
     "output_type": "stream",
     "text": [
      "30\n"
     ]
    }
   ],
   "source": [
    "\"\"\"\n",
    "BUY AND SELL STOCK ONCE\n",
    "\n",
    "Write a program that takes an array denoting the daily stock price and returns\n",
    "the max profit that could be made by buying and then selling one share of that\n",
    "stock\n",
    "\"\"\"\n",
    "\n",
    "def maxProfit(prices):\n",
    "    n = len(prices)\n",
    "    \n",
    "    # Forward pass\n",
    "    low = float('inf')\n",
    "    maxf = float('-inf')    \n",
    "    for i in range(n):\n",
    "        low = min(low, prices[i])\n",
    "        maxf = max(maxf, prices[i] - low)\n",
    "        \n",
    "    return maxf     \n",
    "    \n",
    "print(maxProfit([310, 315, 275, 295, 260, 270, 290, 230, 255, 50]))"
   ]
  },
  {
   "cell_type": "code",
   "execution_count": 7,
   "id": "c0633a37",
   "metadata": {},
   "outputs": [
    {
     "name": "stdout",
     "output_type": "stream",
     "text": [
      "55\n",
      "4\n",
      "7\n"
     ]
    }
   ],
   "source": [
    "\"\"\"\n",
    "BUY AND SELL STOCK TWICE\n",
    "\n",
    "\"\"\"\n",
    "\n",
    "def maxProfit(prices):\n",
    "    n = len(prices)\n",
    "    if n <= 1: return 0\n",
    "    \n",
    "    # Forward pass\n",
    "    low = float('inf')\n",
    "    maxf = float('-inf')\n",
    "    fwd_profits = [0] * n\n",
    "    for i in range(n):\n",
    "        low = min(low, prices[i])\n",
    "        maxf = max(maxf, prices[i] - low)\n",
    "        fwd_profits[i] = maxf\n",
    "        \n",
    "    # Reverse pass\n",
    "    reverse_profits = [0] * n\n",
    "    maxr = float('-inf')\n",
    "    high = float('-inf')\n",
    "    for i in range(n - 1, -1, -1):\n",
    "        high = max(high, prices[i])\n",
    "        maxr = max(maxr, high - prices[i])\n",
    "        reverse_profits[i] = maxr\n",
    "\n",
    "    # Combine forward and reverse passes\n",
    "    profits = [0] * n\n",
    "    for i in range(1, n):\n",
    "        profits [i] = max(fwd_profits[i], fwd_profits[i - 1] + reverse_profits[i])\n",
    "        \n",
    "    return max(profits)\n",
    "            \n",
    "            \n",
    "print(maxProfit([310, 315, 275, 295, 260, 270, 290, 230, 255]))\n",
    "print(maxProfit([1, 2, 3, 4, 5]))\n",
    "print(maxProfit([6,1,3,2,4,7]))"
   ]
  },
  {
   "cell_type": "code",
   "execution_count": 10,
   "id": "c9098fa2",
   "metadata": {},
   "outputs": [
    {
     "name": "stdout",
     "output_type": "stream",
     "text": [
      "[310, 315, 275, 295, 260, 290, 230, 270, 255]\n"
     ]
    }
   ],
   "source": [
    "\"\"\"\n",
    "Interlace and array. Write a program that takes and array A \n",
    "and rerranges its elements to form a new array B such that \n",
    "B[0] <= B[1] >= B[2] <= B[3]...\n",
    "\"\"\"\n",
    "\n",
    "def rearrange(A):\n",
    "    # O(n log n) solution is to sort A and mix its top \n",
    "    # and bottom halves\n",
    "\n",
    "    # O(n) solution is: swap A[i] and A[i+1] if i is even\n",
    "    # and A[i] > A[i+1] or i is odd and A[i] < A[i+1]\n",
    "\n",
    "    n = len(A)\n",
    "    \n",
    "    for i in range(n - 1):\n",
    "        if ((i % 2 == 0) and A[i] > A[i + 1]) or ((i % 2 != 0) and A[i] < A[i + 1]):\n",
    "            A[i], A[i + 1] = A[i + 1], A[i]\n",
    "    \n",
    "    return A\n",
    "\n",
    "print(rearrange([310, 315, 275, 295, 260, 270, 290, 230, 255]))"
   ]
  }
 ],
 "metadata": {
  "kernelspec": {
   "display_name": "Python 3 (ipykernel)",
   "language": "python",
   "name": "python3"
  },
  "language_info": {
   "codemirror_mode": {
    "name": "ipython",
    "version": 3
   },
   "file_extension": ".py",
   "mimetype": "text/x-python",
   "name": "python",
   "nbconvert_exporter": "python",
   "pygments_lexer": "ipython3",
   "version": "3.9.14"
  }
 },
 "nbformat": 4,
 "nbformat_minor": 5
}
